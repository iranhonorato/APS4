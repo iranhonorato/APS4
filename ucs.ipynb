{
 "cells": [
  {
   "cell_type": "code",
   "execution_count": null,
   "id": "7b406e39",
   "metadata": {},
   "outputs": [],
   "source": [
    "from aigyminsper.search.search_algorithms import BuscaCustoUniforme\n",
    "from aigyminsper.search.graph import State\n",
    "\n",
    "\n",
    "class AgenteUCS(State):\n",
    "\n",
    "    def __init__(self, op, inicio, objetivo, Mapa:dict, custo):\n",
    "        super().__init__(op)\n",
    "        self.op = op\n",
    "        self.inicio = inicio\n",
    "        self.objetivo = objetivo\n",
    "        self.Mapa = Mapa\n",
    "        self.custo = custo\n",
    "\n",
    "\n",
    "    def successors(self):\n",
    "        sucessores = []\n",
    "        for prox, custo in self.Mapa.get(self.inicio, {}).items():\n",
    "            sucessores.append(AgenteUCS(op=self.op, inicio=prox, objetivo=self.objetivo, Mapa=self.mapa, custo=custo))\n",
    "        return sucessores \n",
    "\n",
    "\n",
    "\n",
    "    def is_goal(self) -> bool: \n",
    "        return self.inicio == self.objetivo\n",
    "    \n",
    "\n",
    "\n",
    "    def description(self):\n",
    "        return f\"inicio: {self.inicio}, objetivo: {self.objetivo}\"\n",
    "\n",
    "\n",
    "\n",
    "    def cost(self):\n",
    "        return self.custo\n",
    "    \n",
    "\n",
    "\n",
    "\n",
    "    def env(self):\n",
    "        return self.inicio"
   ]
  }
 ],
 "metadata": {
  "kernelspec": {
   "display_name": "venv",
   "language": "python",
   "name": "python3"
  },
  "language_info": {
   "codemirror_mode": {
    "name": "ipython",
    "version": 3
   },
   "file_extension": ".py",
   "mimetype": "text/x-python",
   "name": "python",
   "nbconvert_exporter": "python",
   "pygments_lexer": "ipython3",
   "version": "3.13.7"
  }
 },
 "nbformat": 4,
 "nbformat_minor": 5
}
