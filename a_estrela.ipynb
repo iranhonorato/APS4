{
 "cells": [
  {
   "cell_type": "code",
   "execution_count": 12,
   "id": "b0f53c53",
   "metadata": {},
   "outputs": [],
   "source": [
    "from aigyminsper.search.search_algorithms import AEstrela\n",
    "from aigyminsper.search.graph import State\n",
    "from time import perf_counter\n",
    "import numpy as np\n",
    "from heuristics import mapa, heuristica\n",
    "\n",
    "class AgenteAEstrela(State):\n",
    "\n",
    "    def __init__(self, op, inicio, objetivo, Mapa:dict, heuristica, custo, peso):\n",
    "        super().__init__(op)\n",
    "        self.op = op\n",
    "        self.inicio = inicio\n",
    "        self.objetivo = objetivo\n",
    "        self.Mapa = Mapa\n",
    "        self.heuristica = heuristica\n",
    "        self.custo = custo\n",
    "        self.peso = peso\n",
    "\n",
    "\n",
    "    def successors(self):\n",
    "        sucessores = []\n",
    "        if self.inicio in self.Mapa:\n",
    "            for custo, prox in self.Mapa[self.inicio]:\n",
    "                sucessores.append(\n",
    "                    AgenteAEstrela(op=self.op, inicio=prox, objetivo=self.objetivo, Mapa=self.Mapa, heuristica=self.heuristica, custo=custo, peso=self.peso)\n",
    "                )\n",
    "        return sucessores\n",
    "\n",
    "\n",
    "\n",
    "\n",
    "    def is_goal(self) -> bool: \n",
    "        return self.inicio == self.objetivo\n",
    "    \n",
    "\n",
    "\n",
    "    def h(self): \n",
    "        for tupla in heuristica[self.inicio]:\n",
    "            if self.objetivo == tupla[1]:\n",
    "                if self.peso == None:\n",
    "                    return tupla[0]\n",
    "                elif self.peso == 1:\n",
    "                    return 1\n",
    "                return tupla[0]*self.peso\n",
    "\n",
    "\n",
    "    def description(self):\n",
    "        return f\"inicio: {self.inicio}, objetivo: {self.objetivo}\"\n",
    "\n",
    "\n",
    "\n",
    "    def cost(self):\n",
    "        return self.custo\n",
    "    \n",
    "\n",
    "\n",
    "\n",
    "    def env(self):\n",
    "        return self.inicio"
   ]
  },
  {
   "cell_type": "markdown",
   "id": "97c460bf",
   "metadata": {},
   "source": [
    "## A*: da cidade i para a cidade o"
   ]
  },
  {
   "cell_type": "code",
   "execution_count": 13,
   "id": "d1b2dc70",
   "metadata": {},
   "outputs": [
    {
     "name": "stdout",
     "output_type": "stream",
     "text": [
      "Custo da solução: 8\n",
      "Tempo médio: 9.619999764254317e-05\n"
     ]
    }
   ],
   "source": [
    "estado_inicial = AgenteAEstrela(op=\"start\", inicio=\"i\", objetivo=\"o\", Mapa=mapa, heuristica=heuristica, custo=0, peso=None)\n",
    "algoritmo = AEstrela()\n",
    "tempos =[]\n",
    "ti = perf_counter()\n",
    "resultado = algoritmo.search(estado_inicial)\n",
    "tf = perf_counter()\n",
    "resposta = resultado.g if resultado is not None else float(\"inf\")\n",
    "\n",
    "if resultado is None:\n",
    "    print(np.nan)\n",
    "else:\n",
    "    print(\"Custo da solução:\", resposta)\n",
    "\n",
    "tempos.append(tf - ti)\n",
    "print(\"Tempo médio:\", np.mean(tempos))"
   ]
  },
  {
   "cell_type": "markdown",
   "id": "069f1d41",
   "metadata": {},
   "source": [
    "## A*: da cidade b para a cidade o"
   ]
  },
  {
   "cell_type": "code",
   "execution_count": 14,
   "id": "489b9986",
   "metadata": {},
   "outputs": [
    {
     "name": "stdout",
     "output_type": "stream",
     "text": [
      "Custo da solução: 9\n",
      "Tempo médio: 6.0500002291519195e-05\n"
     ]
    }
   ],
   "source": [
    "estado_inicial = AgenteAEstrela(op=\"start\", inicio=\"b\", objetivo=\"o\", Mapa=mapa, heuristica=heuristica, custo=0, peso=None)\n",
    "algoritmo = AEstrela()\n",
    "tempos =[]\n",
    "ti = perf_counter()\n",
    "resultado = algoritmo.search(estado_inicial)\n",
    "tf = perf_counter()\n",
    "resposta = resultado.g if resultado is not None else float(\"inf\")\n",
    "\n",
    "if resultado is None:\n",
    "    print(np.nan)\n",
    "else:\n",
    "    print(\"Custo da solução:\", resposta)\n",
    "\n",
    "tempos.append(tf - ti)\n",
    "print(\"Tempo médio:\", np.mean(tempos))"
   ]
  },
  {
   "cell_type": "markdown",
   "id": "19c3c7ea",
   "metadata": {},
   "source": [
    "## A*: da cidade i para a cidade x"
   ]
  },
  {
   "cell_type": "code",
   "execution_count": 15,
   "id": "2ef047e5",
   "metadata": {},
   "outputs": [
    {
     "name": "stdout",
     "output_type": "stream",
     "text": [
      "Custo da solução: 12\n",
      "Tempo médio: 0.0002413000001979526\n"
     ]
    }
   ],
   "source": [
    "estado_inicial = AgenteAEstrela(op=\"start\", inicio=\"i\", objetivo=\"x\", Mapa=mapa, heuristica=heuristica, custo=0, peso=None)\n",
    "algoritmo = AEstrela()\n",
    "tempos =[]\n",
    "ti = perf_counter()\n",
    "resultado = algoritmo.search(estado_inicial)\n",
    "tf = perf_counter()\n",
    "resposta = resultado.g if resultado is not None else float(\"inf\")\n",
    "\n",
    "if resultado is None:\n",
    "    print(np.nan)\n",
    "else:\n",
    "    print(\"Custo da solução:\", resposta)\n",
    "\n",
    "tempos.append(tf - ti)\n",
    "print(\"Tempo médio:\", np.mean(tempos))"
   ]
  },
  {
   "cell_type": "markdown",
   "id": "710bf3c6",
   "metadata": {},
   "source": [
    "## A*: da cidade i para a cidade o (h(N) = h(N) * 100)"
   ]
  },
  {
   "cell_type": "code",
   "execution_count": 16,
   "id": "4fcdd60d",
   "metadata": {},
   "outputs": [
    {
     "name": "stdout",
     "output_type": "stream",
     "text": [
      "Custo da solução: 8\n",
      "Tempo médio: 5.210000017541461e-05\n"
     ]
    }
   ],
   "source": [
    "estado_inicial = AgenteAEstrela(op=\"start\", inicio=\"i\", objetivo=\"o\", Mapa=mapa, heuristica=heuristica, custo=0, peso=100)\n",
    "algoritmo = AEstrela()\n",
    "tempos =[]\n",
    "ti = perf_counter()\n",
    "resultado = algoritmo.search(estado_inicial)\n",
    "tf = perf_counter()\n",
    "resposta = resultado.g if resultado is not None else float(\"inf\")\n",
    "\n",
    "if resultado is None:\n",
    "    print(np.nan)\n",
    "else:\n",
    "    print(\"Custo da solução:\", resposta)\n",
    "\n",
    "tempos.append(tf - ti)\n",
    "print(\"Tempo médio:\", np.mean(tempos))"
   ]
  },
  {
   "cell_type": "markdown",
   "id": "4464ea13",
   "metadata": {},
   "source": [
    "## A*: da cidade b para a cidade o (h(N) = h(N) * 100)"
   ]
  },
  {
   "cell_type": "code",
   "execution_count": 17,
   "id": "52c35628",
   "metadata": {},
   "outputs": [
    {
     "name": "stdout",
     "output_type": "stream",
     "text": [
      "Custo da solução: 9\n",
      "Tempo médio: 5.729999975301325e-05\n"
     ]
    }
   ],
   "source": [
    "estado_inicial = AgenteAEstrela(op=\"start\", inicio=\"b\", objetivo=\"o\", Mapa=mapa, heuristica=heuristica, custo=0, peso=100)\n",
    "algoritmo = AEstrela()\n",
    "tempos =[]\n",
    "ti = perf_counter()\n",
    "resultado = algoritmo.search(estado_inicial)\n",
    "tf = perf_counter()\n",
    "resposta = resultado.g if resultado is not None else float(\"inf\")\n",
    "\n",
    "if resultado is None:\n",
    "    print(np.nan)\n",
    "else:\n",
    "    print(\"Custo da solução:\", resposta)\n",
    "\n",
    "tempos.append(tf - ti)\n",
    "print(\"Tempo médio:\", np.mean(tempos))"
   ]
  },
  {
   "cell_type": "markdown",
   "id": "f1017b1d",
   "metadata": {},
   "source": [
    "## A*: da cidade i para a cidade x (h(N) = h(N) * 100)"
   ]
  },
  {
   "cell_type": "code",
   "execution_count": 18,
   "id": "a0dcd473",
   "metadata": {},
   "outputs": [
    {
     "name": "stdout",
     "output_type": "stream",
     "text": [
      "Custo da solução: 17\n",
      "Tempo médio: 4.669999907491729e-05\n"
     ]
    }
   ],
   "source": [
    "estado_inicial = AgenteAEstrela(op=\"start\", inicio=\"i\", objetivo=\"x\", Mapa=mapa, heuristica=heuristica, custo=0, peso=100)\n",
    "algoritmo = AEstrela()\n",
    "tempos =[]\n",
    "ti = perf_counter()\n",
    "resultado = algoritmo.search(estado_inicial)\n",
    "tf = perf_counter()\n",
    "resposta = resultado.g if resultado is not None else float(\"inf\")\n",
    "\n",
    "if resultado is None:\n",
    "    print(np.nan)\n",
    "else:\n",
    "    print(\"Custo da solução:\", resposta)\n",
    "\n",
    "tempos.append(tf - ti)\n",
    "print(\"Tempo médio:\", np.mean(tempos))"
   ]
  },
  {
   "cell_type": "markdown",
   "id": "8e364be4",
   "metadata": {},
   "source": [
    "## A*: da cidade i para a cidade o (h(N) == 1)"
   ]
  },
  {
   "cell_type": "code",
   "execution_count": 19,
   "id": "a6d0f316",
   "metadata": {},
   "outputs": [
    {
     "name": "stdout",
     "output_type": "stream",
     "text": [
      "Custo da solução: 8\n",
      "Tempo médio: 0.003050200000870973\n"
     ]
    }
   ],
   "source": [
    "estado_inicial = AgenteAEstrela(op=\"start\", inicio=\"i\", objetivo=\"o\", Mapa=mapa, heuristica=heuristica, custo=0, peso=1)\n",
    "algoritmo = AEstrela()\n",
    "tempos =[]\n",
    "ti = perf_counter()\n",
    "resultado = algoritmo.search(estado_inicial)\n",
    "tf = perf_counter()\n",
    "resposta = resultado.g if resultado is not None else float(\"inf\")\n",
    "\n",
    "if resultado is None:\n",
    "    print(np.nan)\n",
    "else:\n",
    "    print(\"Custo da solução:\", resposta)\n",
    "\n",
    "tempos.append(tf - ti)\n",
    "print(\"Tempo médio:\", np.mean(tempos))"
   ]
  },
  {
   "cell_type": "markdown",
   "id": "74e07fc0",
   "metadata": {},
   "source": [
    "## A*: da cidade b para a cidade o (h(N) == 1)"
   ]
  },
  {
   "cell_type": "code",
   "execution_count": 20,
   "id": "eac6ccaa",
   "metadata": {},
   "outputs": [
    {
     "name": "stdout",
     "output_type": "stream",
     "text": [
      "Custo da solução: 9\n",
      "Tempo médio: 0.0003419999993639067\n"
     ]
    }
   ],
   "source": [
    "estado_inicial = AgenteAEstrela(op=\"start\", inicio=\"b\", objetivo=\"o\", Mapa=mapa, heuristica=heuristica, custo=0, peso=1)\n",
    "algoritmo = AEstrela()\n",
    "tempos =[]\n",
    "ti = perf_counter()\n",
    "resultado = algoritmo.search(estado_inicial)\n",
    "tf = perf_counter()\n",
    "resposta = resultado.g if resultado is not None else float(\"inf\")\n",
    "\n",
    "if resultado is None:\n",
    "    print(np.nan)\n",
    "else:\n",
    "    print(\"Custo da solução:\", resposta)\n",
    "\n",
    "tempos.append(tf - ti)\n",
    "print(\"Tempo médio:\", np.mean(tempos))"
   ]
  },
  {
   "cell_type": "markdown",
   "id": "d93161b2",
   "metadata": {},
   "source": [
    "## A*: da cidade i para a cidade x (h(N) == 1)"
   ]
  },
  {
   "cell_type": "code",
   "execution_count": 21,
   "id": "72bce725",
   "metadata": {},
   "outputs": [
    {
     "name": "stdout",
     "output_type": "stream",
     "text": [
      "Custo da solução: 12\n",
      "Tempo médio: 0.36233680000077584\n"
     ]
    }
   ],
   "source": [
    "estado_inicial = AgenteAEstrela(op=\"start\", inicio=\"i\", objetivo=\"x\", Mapa=mapa, heuristica=heuristica, custo=0, peso=1)\n",
    "algoritmo = AEstrela()\n",
    "tempos =[]\n",
    "ti = perf_counter()\n",
    "resultado = algoritmo.search(estado_inicial)\n",
    "tf = perf_counter()\n",
    "resposta = resultado.g if resultado is not None else float(\"inf\")\n",
    "\n",
    "if resultado is None:\n",
    "    print(np.nan)\n",
    "else:\n",
    "    print(\"Custo da solução:\", resposta)\n",
    "\n",
    "tempos.append(tf - ti)\n",
    "print(\"Tempo médio:\", np.mean(tempos))"
   ]
  }
 ],
 "metadata": {
  "kernelspec": {
   "display_name": "venv",
   "language": "python",
   "name": "python3"
  },
  "language_info": {
   "codemirror_mode": {
    "name": "ipython",
    "version": 3
   },
   "file_extension": ".py",
   "mimetype": "text/x-python",
   "name": "python",
   "nbconvert_exporter": "python",
   "pygments_lexer": "ipython3",
   "version": "3.13.7"
  }
 },
 "nbformat": 4,
 "nbformat_minor": 5
}
