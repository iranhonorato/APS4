{
 "cells": [
  {
   "cell_type": "code",
   "execution_count": null,
   "id": "340265b7",
   "metadata": {},
   "outputs": [],
   "source": [
    "from aigyminsper.search.search_algorithms import BuscaProfundidade\n",
    "from aigyminsper.search.graph import State\n",
    "\n",
    "class AgenteDFS(State):\n",
    "\n",
    "    def __init__(self, inicio:int, objetivo:int, acao:str):\n",
    "        super().__init__(acao)\n",
    "        self.inicio = inicio\n",
    "        self.objetivo = objetivo\n",
    "        self.acao = acao\n",
    "\n",
    "    def successors(self):\n",
    "        return [\n",
    "            AgenteBFS(self.inicio+2, self.objetivo, \"subir 2 andares\"),\n",
    "            AgenteBFS(self.inicio+1, self.objetivo, \"subir 1 andar\")\n",
    "        ]\n",
    "\n",
    "\n",
    "\n",
    "    def is_goal(self) -> bool: \n",
    "        return self.inicio == self.objetivo\n",
    "    \n",
    "\n",
    "\n",
    "    def description(self):\n",
    "        return f\"inicio: {self.inicio}, objetivo: {self.objetivo}\"\n",
    "\n",
    "\n",
    "\n",
    "    def cost(self):\n",
    "        return 1\n",
    "    \n",
    "\n",
    "\n",
    "\n",
    "    def env(self):\n",
    "        return self.inicio"
   ]
  }
 ],
 "metadata": {
  "kernelspec": {
   "display_name": "venv",
   "language": "python",
   "name": "python3"
  },
  "language_info": {
   "codemirror_mode": {
    "name": "ipython",
    "version": 3
   },
   "file_extension": ".py",
   "mimetype": "text/x-python",
   "name": "python",
   "nbconvert_exporter": "python",
   "pygments_lexer": "ipython3",
   "version": "3.13.7"
  }
 },
 "nbformat": 4,
 "nbformat_minor": 5
}
