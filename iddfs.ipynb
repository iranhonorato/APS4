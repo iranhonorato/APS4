{
 "cells": [
  {
   "cell_type": "code",
   "execution_count": 6,
   "id": "d9b5893e",
   "metadata": {},
   "outputs": [],
   "source": [
    "from aigyminsper.search.search_algorithms import BuscaProfundidadeIterativa\n",
    "from aigyminsper.search.graph import State\n",
    "from time import perf_counter\n",
    "import numpy as np\n",
    "from heuristics import mapa, heuristica\n",
    "\n",
    "class AgenteIDDFS(State):\n",
    "\n",
    "    def __init__(self, op, inicio, objetivo, Mapa:dict, custo):\n",
    "        super().__init__(op)\n",
    "        self.op = op\n",
    "        self.inicio = inicio\n",
    "        self.objetivo = objetivo\n",
    "        self.Mapa = Mapa\n",
    "        self.custo = custo\n",
    "\n",
    "\n",
    "    def successors(self):\n",
    "        sucessores = []\n",
    "        if self.inicio in self.Mapa:\n",
    "            for custo, prox in self.Mapa[self.inicio]:\n",
    "                sucessores.append(\n",
    "                    AgenteIDDFS(op=self.op, inicio=prox, objetivo=self.objetivo, Mapa=self.Mapa, custo=custo)\n",
    "                )\n",
    "        return sucessores\n",
    "\n",
    "\n",
    "    def is_goal(self) -> bool: \n",
    "        return self.inicio == self.objetivo\n",
    "    \n",
    "\n",
    "\n",
    "    def description(self):\n",
    "        return f\"inicio: {self.inicio}, objetivo: {self.objetivo}\"\n",
    "\n",
    "\n",
    "\n",
    "    def cost(self):\n",
    "        return self.custo\n",
    "    \n",
    "\n",
    "\n",
    "\n",
    "    def env(self):\n",
    "        return self.inicio"
   ]
  },
  {
   "cell_type": "markdown",
   "id": "b10c4c46",
   "metadata": {},
   "source": [
    "## IDDFS: da cidade i para a cidade o"
   ]
  },
  {
   "cell_type": "code",
   "execution_count": 7,
   "id": "97ba14dc",
   "metadata": {},
   "outputs": [
    {
     "name": "stdout",
     "output_type": "stream",
     "text": [
      "Custo da solução: 8\n",
      "Tempo médio: 0.00010580000162008218\n"
     ]
    }
   ],
   "source": [
    "estado_inicial = AgenteIDDFS(op=\"start\", inicio=\"i\", objetivo=\"o\", Mapa=mapa, custo=0)\n",
    "algoritmo = BuscaProfundidadeIterativa()\n",
    "tempos =[]\n",
    "ti = perf_counter()\n",
    "resultado = algoritmo.search(estado_inicial)\n",
    "tf = perf_counter()\n",
    "resposta = resultado.g if resultado is not None else float(\"inf\")\n",
    "\n",
    "if resultado is None:\n",
    "    print(np.nan)\n",
    "else:\n",
    "    print(\"Custo da solução:\", resposta)\n",
    "\n",
    "tempos.append(tf - ti)\n",
    "print(\"Tempo médio:\", np.mean(tempos))"
   ]
  },
  {
   "cell_type": "markdown",
   "id": "54faf1a3",
   "metadata": {},
   "source": [
    "## IDDFS: b para a cidade o"
   ]
  },
  {
   "cell_type": "code",
   "execution_count": 8,
   "id": "cad154c1",
   "metadata": {},
   "outputs": [
    {
     "name": "stdout",
     "output_type": "stream",
     "text": [
      "Custo da solução: 11\n",
      "Tempo médio: 7.869999899412505e-05\n"
     ]
    }
   ],
   "source": [
    "estado_inicial = AgenteIDDFS(op=\"start\", inicio=\"b\", objetivo=\"o\", Mapa=mapa, custo=0)\n",
    "algoritmo = BuscaProfundidadeIterativa()\n",
    "tempos =[]\n",
    "ti = perf_counter()\n",
    "resultado = algoritmo.search(estado_inicial)\n",
    "tf = perf_counter()\n",
    "resposta = resultado.g if resultado is not None else float(\"inf\")\n",
    "\n",
    "if resultado is None:\n",
    "    print(np.nan)\n",
    "else:\n",
    "    print(\"Custo da solução:\", resposta)\n",
    "\n",
    "tempos.append(tf - ti)\n",
    "print(\"Tempo médio:\", np.mean(tempos))"
   ]
  }
 ],
 "metadata": {
  "kernelspec": {
   "display_name": "venv",
   "language": "python",
   "name": "python3"
  },
  "language_info": {
   "codemirror_mode": {
    "name": "ipython",
    "version": 3
   },
   "file_extension": ".py",
   "mimetype": "text/x-python",
   "name": "python",
   "nbconvert_exporter": "python",
   "pygments_lexer": "ipython3",
   "version": "3.13.7"
  }
 },
 "nbformat": 4,
 "nbformat_minor": 5
}
